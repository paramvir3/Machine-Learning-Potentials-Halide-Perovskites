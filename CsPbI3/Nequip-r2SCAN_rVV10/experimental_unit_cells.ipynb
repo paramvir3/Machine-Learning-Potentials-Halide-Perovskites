{
 "cells": [
  {
   "cell_type": "code",
   "execution_count": 2,
   "id": "46faff31",
   "metadata": {},
   "outputs": [],
   "source": [
    "import matplotlib.pyplot as plt\n",
    "import numpy as np\n",
    "import subprocess\n",
    "from ase.optimize.sciopt import *               \n",
    "from ase.visualize import *\n",
    "from ase import Atoms\n",
    "from ase import io\n",
    "from ase.io import *\n",
    "from ase.io.cif import read_cif\n",
    "from ase.io.vasp import write_vasp\n",
    "from ase.visualize.plot import plot_atoms\n",
    "from ase.build import add_adsorbate\n",
    "from ase.io.proteindatabank import read_proteindatabank\n",
    "from ase.io.lammpsdata import write_lammps_data"
   ]
  },
  {
   "cell_type": "code",
   "execution_count": 8,
   "id": "48a316eb-fcbe-4b72-b626-337c126a39e8",
   "metadata": {},
   "outputs": [
    {
     "name": "stdout",
     "output_type": "stream",
     "text": [
      "Collecting package metadata (current_repodata.json): done\n",
      "Solving environment: unsuccessful initial attempt using frozen solve. Retrying with flexible solve.\n",
      "Collecting package metadata (repodata.json): done\n",
      "Solving environment: unsuccessful initial attempt using frozen solve. Retrying with flexible solve.\n",
      "\n",
      "PackagesNotFoundError: The following packages are not available from current channels:\n",
      "\n",
      "  - csd-python-api\n",
      "\n",
      "Current channels:\n",
      "\n",
      "  - https://conda.anaconda.org/conda-forge/osx-arm64\n",
      "  - https://conda.anaconda.org/conda-forge/noarch\n",
      "  - https://conda.ccdc.cam.ac.uk/osx-arm64\n",
      "  - https://conda.ccdc.cam.ac.uk/noarch\n",
      "  - https://repo.anaconda.com/pkgs/main/osx-arm64\n",
      "  - https://repo.anaconda.com/pkgs/main/noarch\n",
      "  - https://repo.anaconda.com/pkgs/r/osx-arm64\n",
      "  - https://repo.anaconda.com/pkgs/r/noarch\n",
      "\n",
      "To search for alternate channels that may provide the conda package you're\n",
      "looking for, navigate to\n",
      "\n",
      "    https://anaconda.org\n",
      "\n",
      "and use the search bar at the top of the page.\n",
      "\n",
      "\n"
     ]
    }
   ],
   "source": [
    "! conda install -c conda-forge --channel=https://conda.ccdc.cam.ac.uk csd-python-api"
   ]
  },
  {
   "cell_type": "markdown",
   "id": "32aa566a",
   "metadata": {},
   "source": [
    "## cubic 3C polymorph: http://dx.doi.org/10.1016/j.jpcs.2008.05.007\n",
    "- Experimental data\n",
    "   - ICSD 161481\n",
    "   - ICSD Structure : Cs I3 Pb\n",
    "   - Space Group: P m 3 m (221)\n",
    "   - Cell: a 6.2894Å b 6.2894Å c 6.2894Å, α 90° β 90° γ 90° "
   ]
  },
  {
   "cell_type": "code",
   "execution_count": 7,
   "id": "83240940-f3c6-4f5e-9411-d048571d611e",
   "metadata": {},
   "outputs": [
    {
     "name": "stdout",
     "output_type": "stream",
     "text": [
      "Collecting package metadata (current_repodata.json): done\n",
      "Solving environment: unsuccessful initial attempt using frozen solve. Retrying with flexible solve.\n",
      "Collecting package metadata (repodata.json): done\n",
      "Solving environment: unsuccessful initial attempt using frozen solve. Retrying with flexible solve.\n",
      "\n",
      "PackagesNotFoundError: The following packages are not available from current channels:\n",
      "\n",
      "  - csd-python-api\n",
      "\n",
      "Current channels:\n",
      "\n",
      "  - https://conda.ccdc.cam.ac.uk/osx-arm64\n",
      "  - https://conda.ccdc.cam.ac.uk/noarch\n",
      "  - https://repo.anaconda.com/pkgs/main/osx-arm64\n",
      "  - https://repo.anaconda.com/pkgs/main/noarch\n",
      "  - https://repo.anaconda.com/pkgs/r/osx-arm64\n",
      "  - https://repo.anaconda.com/pkgs/r/noarch\n",
      "\n",
      "To search for alternate channels that may provide the conda package you're\n",
      "looking for, navigate to\n",
      "\n",
      "    https://anaconda.org\n",
      "\n",
      "and use the search bar at the top of the page.\n",
      "\n",
      "\n"
     ]
    }
   ],
   "source": [
    "! conda install csd-python-api\n"
   ]
  },
  {
   "cell_type": "code",
   "execution_count": 2,
   "id": "6557815c",
   "metadata": {},
   "outputs": [
    {
     "name": "stderr",
     "output_type": "stream",
     "text": [
      "/home/ahlawat/.local/lib/python3.9/site-packages/ase/io/cif.py:401: UserWarning: crystal system 'cubic' is not interpreted for space group Spacegroup(221, setting=1). This may result in wrong setting!\n",
      "  warnings.warn(\n"
     ]
    }
   ],
   "source": [
    "structure = io.read('cubic.cif')\n",
    "structure = sort(structure)\n",
    "view(structure)\n",
    "write_vasp('cubic_unit_cell.vasp', structure, vasp5=True, direct=True)"
   ]
  },
  {
   "cell_type": "markdown",
   "id": "0adb78ff",
   "metadata": {},
   "source": [
    "## tetragonal polymorph:  https://dx.doi.org/10.25505/fiz.icsd.cc20vqj4\n",
    "- Experimental data\n",
    "  - Space Group: P 4/m b m (127)\n",
    "  - Cell: a 8.82690(3)Å b 8.82690(3)Å c 6.29902(3)Å, α 90° β 90° γ 90° "
   ]
  },
  {
   "cell_type": "code",
   "execution_count": 3,
   "id": "bece12d6",
   "metadata": {},
   "outputs": [
    {
     "name": "stderr",
     "output_type": "stream",
     "text": [
      "/home/ahlawat/.local/lib/python3.9/site-packages/ase/io/cif.py:401: UserWarning: crystal system 'tetragonal' is not interpreted for space group Spacegroup(127, setting=1). This may result in wrong setting!\n",
      "  warnings.warn(\n"
     ]
    }
   ],
   "source": [
    "structure = io.read('beta.cif')\n",
    "structure = sort(structure)\n",
    "view(structure)\n",
    "write_vasp('tetragonal_unit_cell.vasp', structure, vasp5=True, direct=True)"
   ]
  },
  {
   "cell_type": "markdown",
   "id": "e4e7557e",
   "metadata": {},
   "source": [
    "## orthorhombic polymorph: http://dx.doi.org/10.1021/acsenergylett.8b00672\n",
    "- Experimental data\n",
    "  - ICSD 264725 \n",
    "  - ICSD Structure : (Cs I3 Pb)n\n",
    "  - Space Group: P n a m (62)\n",
    "  - Cell: a 8.8561(4)Å b 8.5766(3)Å c 12.4722(6)Å, α 90° β 90° γ 90° "
   ]
  },
  {
   "cell_type": "code",
   "execution_count": 8,
   "id": "b27e74e4",
   "metadata": {},
   "outputs": [
    {
     "ename": "NameError",
     "evalue": "name 'sort' is not defined",
     "output_type": "error",
     "traceback": [
      "\u001b[0;31m---------------------------------------------------------------------------\u001b[0m",
      "\u001b[0;31mNameError\u001b[0m                                 Traceback (most recent call last)",
      "Cell \u001b[0;32mIn[8], line 2\u001b[0m\n\u001b[1;32m      1\u001b[0m structure \u001b[38;5;241m=\u001b[39m io\u001b[38;5;241m.\u001b[39mread(\u001b[38;5;124m'\u001b[39m\u001b[38;5;124mortho.cif\u001b[39m\u001b[38;5;124m'\u001b[39m)\n\u001b[0;32m----> 2\u001b[0m structure \u001b[38;5;241m=\u001b[39m \u001b[43msort\u001b[49m(structure)\n\u001b[1;32m      3\u001b[0m view(structure)\n\u001b[1;32m      4\u001b[0m write_vasp(\u001b[38;5;124m'\u001b[39m\u001b[38;5;124mortho_unit_cell.vasp\u001b[39m\u001b[38;5;124m'\u001b[39m, structure, vasp5\u001b[38;5;241m=\u001b[39m\u001b[38;5;28;01mTrue\u001b[39;00m, direct\u001b[38;5;241m=\u001b[39m\u001b[38;5;28;01mTrue\u001b[39;00m)\n",
      "\u001b[0;31mNameError\u001b[0m: name 'sort' is not defined"
     ]
    }
   ],
   "source": [
    "structure = io.read('ortho.cif')\n",
    "structure = sort(structure)\n",
    "view(structure)\n",
    "write_vasp('ortho_unit_cell.vasp', structure, vasp5=True, direct=True)"
   ]
  },
  {
   "cell_type": "markdown",
   "id": "9da0785a",
   "metadata": {},
   "source": [
    "## hexagonal polymorph: https://dx.doi.org/10.5517/cc11hdmk\n",
    "- Experimental data\n",
    "  - Crystal details\n",
    "  - Space group \tP n m a (62)\n",
    "  - Unit cell \ta 10.4342(7)Å b 4.7905(3)Å c 17.7610(10)Å\n",
    "  - α 90.00° β 90.00° γ 90.00°\n",
    "  - Cell volume \t887.78\n",
    "  - Reduced cell \ta 4.791Å b 10.434Å c 17.761Å\n",
    "  - α 90.000° β 90.000° γ 90.000°\n",
    "  - Polymorph \tdelta polymorph\n",
    "  - Colour \tyellow\n"
   ]
  },
  {
   "cell_type": "code",
   "execution_count": 5,
   "id": "767295d4",
   "metadata": {},
   "outputs": [
    {
     "name": "stderr",
     "output_type": "stream",
     "text": [
      "/home/ahlawat/.local/lib/python3.9/site-packages/ase/io/cif.py:401: UserWarning: crystal system 'Orthorhombic' is not interpreted for space group Spacegroup(62, setting=1). This may result in wrong setting!\n",
      "  warnings.warn(\n"
     ]
    }
   ],
   "source": [
    "structure = io.read('delta.cif')\n",
    "structure = sort(structure)\n",
    "view(structure)\n",
    "write_vasp('delta_unit_cell.vasp', structure, vasp5=True, direct=True)"
   ]
  },
  {
   "cell_type": "code",
   "execution_count": null,
   "id": "3caf4f3b",
   "metadata": {},
   "outputs": [],
   "source": []
  }
 ],
 "metadata": {
  "kernelspec": {
   "display_name": "Python 3 (ipykernel)",
   "language": "python",
   "name": "python3"
  },
  "language_info": {
   "codemirror_mode": {
    "name": "ipython",
    "version": 3
   },
   "file_extension": ".py",
   "mimetype": "text/x-python",
   "name": "python",
   "nbconvert_exporter": "python",
   "pygments_lexer": "ipython3",
   "version": "3.10.15"
  }
 },
 "nbformat": 4,
 "nbformat_minor": 5
}
